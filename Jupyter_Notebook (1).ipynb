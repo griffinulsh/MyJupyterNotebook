{
  "metadata": {
    "kernelspec": {
      "name": "python",
      "display_name": "Pyolite",
      "language": "python"
    },
    "language_info": {
      "codemirror_mode": {
        "name": "python",
        "version": 3
      },
      "file_extension": ".py",
      "mimetype": "text/x-python",
      "name": "python",
      "nbconvert_exporter": "python",
      "pygments_lexer": "ipython3",
      "version": "3.8"
    }
  },
  "nbformat_minor": 4,
  "nbformat": 4,
  "cells": [
    {
      "cell_type": "markdown",
      "source": "# My Jupyter Notebook in Watson Studio",
      "metadata": {}
    },
    {
      "cell_type": "markdown",
      "source": "**Griffin Ulsh**",
      "metadata": {}
    },
    {
      "cell_type": "markdown",
      "source": "*I am interested in data science because of the wide range of problems and projects that use data science. It's also a lucrative field to enter to make a living.*",
      "metadata": {}
    },
    {
      "cell_type": "markdown",
      "source": "### The code below will print the sum of 4 and 8.",
      "metadata": {}
    },
    {
      "cell_type": "code",
      "source": "print(4 + 8)",
      "metadata": {
        "trusted": true
      },
      "execution_count": 2,
      "outputs": [
        {
          "name": "stdout",
          "text": "12\n",
          "output_type": "stream"
        }
      ]
    },
    {
      "cell_type": "markdown",
      "source": "| First Column | Second Column | Final Column |\n ----------------------------------------------\n| row one, 1   | row one, 2    | row one, 3   |\n-----------------------------------------------",
      "metadata": {}
    },
    {
      "cell_type": "markdown",
      "source": "1. numbered list item, 1\n2. numbered list item, 2",
      "metadata": {}
    },
    {
      "cell_type": "markdown",
      "source": "~~strikethrough text~~",
      "metadata": {}
    },
    {
      "cell_type": "code",
      "source": "",
      "metadata": {},
      "execution_count": null,
      "outputs": []
    }
  ]
}